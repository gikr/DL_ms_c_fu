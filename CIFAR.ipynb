{
 "cells": [
  {
   "cell_type": "code",
   "execution_count": 1,
   "metadata": {},
   "outputs": [
    {
     "name": "stdout",
     "output_type": "stream",
     "text": [
      "(6000, 3, 32, 32) float32\n",
      "(6000,) int64\n",
      "(300, 3, 32, 32) float32\n",
      "1\n"
     ]
    }
   ],
   "source": [
    "import numpy as np\n",
    "import matplotlib.pyplot as plt\n",
    "\n",
    "with np.load('prediction-challenge-02-data.npz') as fh:\n",
    "    data_x = fh['data_x']\n",
    "    data_y = fh['data_y']\n",
    "    test_x = fh['test_x']\n",
    "\n",
    "# TRAINING DATA: INPUT (x) AND OUTPUT (y)\n",
    "# 1. INDEX: IMAGE SERIAL NUMBER (6000)\n",
    "# 2. INDEX: COLOR CHANNELS (3)\n",
    "# 3/4. INDEX: PIXEL VALUE (32 x 32)\n",
    "print(data_x.shape, data_x.dtype)\n",
    "print(data_y.shape, data_y.dtype)\n",
    "\n",
    "# TEST DATA: INPUT (x) ONLY\n",
    "print(test_x.shape, test_x.dtype)\n",
    "\n",
    "# TRAIN MODEL ON data_x, data_y\n",
    "\n",
    "# PREDICT prediction FROM test_x\n",
    "\n",
    "plt.imshow(data_x[12,0])\n",
    "print(data_y[12])\n",
    "\n",
    "import numpy as np\n",
    "NUM_CLASSES = np.size(np.unique(data_y))"
   ]
  },
  {
   "cell_type": "code",
   "execution_count": 2,
   "metadata": {},
   "outputs": [
    {
     "name": "stdout",
     "output_type": "stream",
     "text": [
      "(6000, 32, 32, 3)\n",
      "(300, 32, 32, 3)\n"
     ]
    }
   ],
   "source": [
    "\n",
    "data_xx = data_x.reshape(6000, 32,32,3)\n",
    "print(data_xx.shape)\n",
    "\n",
    "test_xx = test_x.reshape(300, 32,32,3)\n",
    "print(test_xx.shape)"
   ]
  },
  {
   "cell_type": "code",
   "execution_count": null,
   "metadata": {},
   "outputs": [],
   "source": [
    "plt.imshow(data_xx[9])\n"
   ]
  },
  {
   "cell_type": "code",
   "execution_count": null,
   "metadata": {},
   "outputs": [],
   "source": [
    "plt.imshow(data_x[0])"
   ]
  },
  {
   "cell_type": "code",
   "execution_count": 3,
   "metadata": {},
   "outputs": [
    {
     "data": {
      "text/plain": [
       "<matplotlib.image.AxesImage at 0x7f624020bac8>"
      ]
     },
     "execution_count": 3,
     "metadata": {},
     "output_type": "execute_result"
    },
    {
     "data": {
      "image/png": "[encoded data removed]",
      "text/plain": [
       "<matplotlib.figure.Figure at 0x7f6270bade48>"
      ]
     },
     "metadata": {},
     "output_type": "display_data"
    }
   ],
   "source": [
    "data_x2 = data_x/255 - 0.5\n",
    "test_x2 = test_x/255 - 0.5\n",
    "\n",
    "plt.imshow(data_x2[0,0])"
   ]
  },
  {
   "cell_type": "code",
   "execution_count": null,
   "metadata": {},
   "outputs": [],
   "source": [
    "plt.imshow(data_x[1,0])"
   ]
  },
  {
   "cell_type": "code",
   "execution_count": 4,
   "metadata": {},
   "outputs": [
    {
     "name": "stderr",
     "output_type": "stream",
     "text": [
      "/home/gaini/anaconda3/lib/python3.6/site-packages/h5py/__init__.py:36: FutureWarning: Conversion of the second argument of issubdtype from `float` to `np.floating` is deprecated. In future, it will be treated as `np.float64 == np.dtype(float).type`.\n",
      "  from ._conv import register_converters as _register_converters\n",
      "Using TensorFlow backend.\n"
     ]
    }
   ],
   "source": [
    "import keras\n",
    "from keras import backend as K\n",
    "\n",
    "from keras.models import Sequential\n",
    "from keras.layers import Conv2D, MaxPooling2D, Flatten, Dense, Activation, Dropout\n",
    "from keras.layers.advanced_activations import LeakyReLU"
   ]
  },
  {
   "cell_type": "code",
   "execution_count": 7,
   "metadata": {},
   "outputs": [],
   "source": [
    "def make_model():\n",
    "    \"\"\"\n",
    "    Define your model architecture here.\n",
    "    Returns `Sequential` model.\n",
    "    \"\"\"\n",
    "    \n",
    "    model = Sequential()  # start feed-forward model definition\n",
    "    model.add(Conv2D(16, (3, 3),input_shape=( 32, 32, 3), padding=\"same\" ) ) # first layer needs to define \"input_shape\"\n",
    "    model.add(LeakyReLU(0.1))\n",
    "    model.add(Conv2D(32, (3, 3), padding=\"same\" ) )\n",
    "    model.add(LeakyReLU(0.1))\n",
    "    model.add(MaxPooling2D(pool_size=(2, 2)))\n",
    "    model.add(Dropout(0.25))\n",
    "    \n",
    "    model.add(Conv2D(32, (3, 3), padding=\"same\" ))\n",
    "    model.add(LeakyReLU(0.1))\n",
    "    model.add(Conv2D(64, (3, 3), padding=\"same\" ) )\n",
    "    model.add(LeakyReLU(0.1))\n",
    "    model.add(MaxPooling2D(pool_size=(2, 2)))\n",
    "    model.add(Dropout(0.25))\n",
    "    \n",
    "    \n",
    "    \n",
    "    model.add(Flatten())\n",
    "    model.add(Dense(256))\n",
    "    model.add(LeakyReLU(0.1))\n",
    "    model.add(Dropout(0.5))\n",
    "    model.add(Dense(NUM_CLASSES))\n",
    "  # here comes a bunch of convolutional, pooling and dropout layers\n",
    "\n",
    "    \n",
    "#    model.add(Dense(NUM_CLASSES))  # the last layer with neuron for each class\n",
    "#    model.add(LeakyReLU(0.1))\n",
    "    model.add(Activation(\"softmax\"))  # output probabilities\n",
    "\n",
    "    \n",
    "    return model"
   ]
  },
  {
   "cell_type": "code",
   "execution_count": 8,
   "metadata": {},
   "outputs": [
    {
     "name": "stdout",
     "output_type": "stream",
     "text": [
      "_________________________________________________________________\n",
      "Layer (type)                 Output Shape              Param #   \n",
      "=================================================================\n",
      "conv2d_1 (Conv2D)            (None, 32, 32, 16)        448       \n",
      "_________________________________________________________________\n",
      "leaky_re_lu_1 (LeakyReLU)    (None, 32, 32, 16)        0         \n",
      "_________________________________________________________________\n",
      "conv2d_2 (Conv2D)            (None, 32, 32, 32)        4640      \n",
      "_________________________________________________________________\n",
      "leaky_re_lu_2 (LeakyReLU)    (None, 32, 32, 32)        0         \n",
      "_________________________________________________________________\n",
      "max_pooling2d_1 (MaxPooling2 (None, 16, 16, 32)        0         \n",
      "_________________________________________________________________\n",
      "dropout_1 (Dropout)          (None, 16, 16, 32)        0         \n",
      "_________________________________________________________________\n",
      "conv2d_3 (Conv2D)            (None, 16, 16, 32)        9248      \n",
      "_________________________________________________________________\n",
      "leaky_re_lu_3 (LeakyReLU)    (None, 16, 16, 32)        0         \n",
      "_________________________________________________________________\n",
      "conv2d_4 (Conv2D)            (None, 16, 16, 64)        18496     \n",
      "_________________________________________________________________\n",
      "leaky_re_lu_4 (LeakyReLU)    (None, 16, 16, 64)        0         \n",
      "_________________________________________________________________\n",
      "max_pooling2d_2 (MaxPooling2 (None, 8, 8, 64)          0         \n",
      "_________________________________________________________________\n",
      "dropout_2 (Dropout)          (None, 8, 8, 64)          0         \n",
      "_________________________________________________________________\n",
      "flatten_1 (Flatten)          (None, 4096)              0         \n",
      "_________________________________________________________________\n",
      "dense_1 (Dense)              (None, 256)               1048832   \n",
      "_________________________________________________________________\n",
      "leaky_re_lu_5 (LeakyReLU)    (None, 256)               0         \n",
      "_________________________________________________________________\n",
      "dropout_3 (Dropout)          (None, 256)               0         \n",
      "_________________________________________________________________\n",
      "dense_2 (Dense)              (None, 3)                 771       \n",
      "_________________________________________________________________\n",
      "activation_1 (Activation)    (None, 3)                 0         \n",
      "=================================================================\n",
      "Total params: 1,082,435\n",
      "Trainable params: 1,082,435\n",
      "Non-trainable params: 0\n",
      "_________________________________________________________________\n"
     ]
    }
   ],
   "source": [
    "# describe model\n",
    "K.clear_session()  # clear default graph\n",
    "model = make_model()\n",
    "model.summary()"
   ]
  },
  {
   "cell_type": "code",
   "execution_count": 9,
   "metadata": {
    "scrolled": true
   },
   "outputs": [
    {
     "name": "stdout",
     "output_type": "stream",
     "text": [
      "Epoch 1/15\n",
      "6000/6000 [==============================] - 39s 6ms/step - loss: 0.9917 - acc: 0.4835\n",
      "Epoch 2/15\n",
      "6000/6000 [==============================] - 36s 6ms/step - loss: 0.8470 - acc: 0.5907\n",
      "Epoch 3/15\n",
      "6000/6000 [==============================] - 36s 6ms/step - loss: 0.7919 - acc: 0.6257\n",
      "Epoch 4/15\n",
      "6000/6000 [==============================] - 36s 6ms/step - loss: 0.7277 - acc: 0.6643\n",
      "Epoch 5/15\n",
      "6000/6000 [==============================] - 36s 6ms/step - loss: 0.7084 - acc: 0.6758\n",
      "Epoch 6/15\n",
      "6000/6000 [==============================] - 37s 6ms/step - loss: 0.6610 - acc: 0.6973\n",
      "Epoch 7/15\n",
      "6000/6000 [==============================] - 37s 6ms/step - loss: 0.6288 - acc: 0.7128\n",
      "Epoch 8/15\n",
      "6000/6000 [==============================] - 37s 6ms/step - loss: 0.6035 - acc: 0.7237\n",
      "Epoch 9/15\n",
      "6000/6000 [==============================] - 38s 6ms/step - loss: 0.5642 - acc: 0.7507\n",
      "Epoch 10/15\n",
      "6000/6000 [==============================] - 34s 6ms/step - loss: 0.5294 - acc: 0.7712\n",
      "Epoch 11/15\n",
      "6000/6000 [==============================] - 35s 6ms/step - loss: 0.4981 - acc: 0.7875\n",
      "Epoch 12/15\n",
      "6000/6000 [==============================] - 34s 6ms/step - loss: 0.4579 - acc: 0.8078\n",
      "Epoch 13/15\n",
      "6000/6000 [==============================] - 35s 6ms/step - loss: 0.4321 - acc: 0.8180\n",
      "Epoch 14/15\n",
      "6000/6000 [==============================] - 34s 6ms/step - loss: 0.3967 - acc: 0.8345\n",
      "Epoch 15/15\n",
      "6000/6000 [==============================] - 35s 6ms/step - loss: 0.3859 - acc: 0.8408\n"
     ]
    },
    {
     "data": {
      "text/plain": [
       "<keras.callbacks.History at 0x7f62199a8ac8>"
      ]
     },
     "execution_count": 9,
     "metadata": {},
     "output_type": "execute_result"
    }
   ],
   "source": [
    "y_binary = keras.utils.to_categorical(data_y)\n",
    "\n",
    "INIT_LR = 5e-3  # initial learning rate\n",
    "BATCH_SIZE = 32\n",
    "EPOCHS = 15\n",
    "\n",
    "K.clear_session()  # clear default graph\n",
    "# don't call K.set_learning_phase() !!! (otherwise will enable dropout in train/test simultaneously)\n",
    "model = make_model()  # define our model\n",
    "\n",
    "# prepare model for fitting (loss, optimizer, etc)\n",
    "model.compile(\n",
    "    loss='categorical_crossentropy',  # we train 10-way classification\n",
    "    optimizer=keras.optimizers.adamax(lr=INIT_LR),  # for SGD\n",
    "    metrics=['accuracy']  # report accuracy during training\n",
    ")\n",
    "\n",
    "# scheduler of learning rate (decay with epochs)\n",
    "def lr_scheduler(epoch):\n",
    "    return INIT_LR * 0.9 ** epoch\n",
    "\n",
    "# callback for printing of actual learning rate used by optimizer\n",
    "class LrHistory(keras.callbacks.Callback):\n",
    "    def on_epoch_begin(self, epoch, logs={}):\n",
    "        print(\"Learning rate:\", K.get_value(model.optimizer.lr))\n",
    "\n",
    "# fit model\n",
    "model.fit(\n",
    "    data_xx, y_binary,  # prepared data\n",
    "    batch_size=BATCH_SIZE,\n",
    "    epochs=EPOCHS\n",
    ")"
   ]
  },
  {
   "cell_type": "code",
   "execution_count": 11,
   "metadata": {},
   "outputs": [
    {
     "name": "stdout",
     "output_type": "stream",
     "text": [
      "[1 2 1 2 0 0 2 1 2 1 0 1 1 2 0 2 0 2 0 2 0 2 0 0 1 1 0 0 2 0 2 2 1 1 2 1 0\n",
      " 2 2 2 1 2 2 2 2 0 0 2 2 0 2 0 0 0 2 2 2 2 0 0 2 2 1 1 0 1 2 1 2 2 0 0 2 2\n",
      " 2 0 2 2 0 1 0 0 0 1 0 0 0 0 2 2 0 2 2 0 1 1 0 1 0 1 2 0 0 0 1 2 0 1 2 0 1\n",
      " 1 1 0 2 2 0 0 1 0 1 2 0 2 2 2 2 0 2 2 0 2 1 1 1 2 2 2 2 2 2 1 1 2 0 1 2 2\n",
      " 0 1 2 2 0 0 2 1 2 0 1 1 0 1 2 0 1 1 2 0 0 2 2 0 0 2 0 0 1 1 0 1 1 0 1 1 0\n",
      " 1 2 0 0 0 2 0 0 0 1 0 1 0 2 2 0 0 0 0 1 1 0 0 2 0 2 2 2 2 2 0 0 2 2 0 2 2\n",
      " 0 0 2 0 0 1 2 2 1 1 0 0 0 0 0 0 1 2 0 2 2 0 0 0 2 1 0 1 0 1 0 0 2 0 1 2 1\n",
      " 2 1 1 0 2 2 1 2 1 0 2 2 2 2 1 1 0 1 2 1 1 1 2 2 1 1 2 2 2 2 0 2 2 0 2 2 1\n",
      " 0 2 2 1]\n"
     ]
    }
   ],
   "source": [
    "prediction = model.predict(test_xx)\n",
    "prediction_1 = np.argmax(prediction, axis = 1).reshape(300, )\n",
    "print(prediction_1)"
   ]
  },
  {
   "cell_type": "code",
   "execution_count": 20,
   "metadata": {},
   "outputs": [
    {
     "data": {
      "text/plain": [
       "1"
      ]
     },
     "execution_count": 20,
     "metadata": {},
     "output_type": "execute_result"
    },
    {
     "data": {
      "image/png": "[encoded data removed]",
      "text/plain": [
       "<matplotlib.figure.Figure at 0x7f6218151978>"
      ]
     },
     "metadata": {},
     "output_type": "display_data"
    }
   ],
   "source": [
    "plt.imshow(test_x[25,0])\n",
    "prediction_1[25]"
   ]
  },
  {
   "cell_type": "code",
   "execution_count": 21,
   "metadata": {},
   "outputs": [],
   "source": [
    "# MAKE SURE THAT YOU HAVE THE RIGHT FORMAT\n",
    "assert prediction_1.ndim == 1\n",
    "assert prediction_1.shape[0] == 300\n",
    "\n",
    "# AND SAVE EXACTLY AS SHOWN BELOW\n",
    "np.save('prediction.npy', prediction_1)"
   ]
  },
  {
   "cell_type": "code",
   "execution_count": null,
   "metadata": {},
   "outputs": [],
   "source": []
  }
 ],
 "metadata": {
  "kernelspec": {
   "display_name": "Python 3",
   "language": "python",
   "name": "python3"
  },
  "language_info": {
   "codemirror_mode": {
    "name": "ipython",
    "version": 3
   },
   "file_extension": ".py",
   "mimetype": "text/x-python",
   "name": "python",
   "nbconvert_exporter": "python",
   "pygments_lexer": "ipython3",
   "version": "3.6.4"
  }
 },
 "nbformat": 4,
 "nbformat_minor": 2
}
